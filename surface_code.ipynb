{
 "cells": [
  {
   "cell_type": "code",
   "execution_count": 96,
   "id": "edbbab7e-727d-4906-98f9-0fd3969fa56a",
   "metadata": {},
   "outputs": [],
   "source": [
    "%matplotlib inline"
   ]
  },
  {
   "cell_type": "code",
   "execution_count": 208,
   "id": "8370b55d-d997-4d38-80d8-c52073ca6609",
   "metadata": {},
   "outputs": [],
   "source": [
    "import pennylane as qml\n",
    "import matplotlib.pyplot as plt\n",
    "from matplotlib.patches import Polygon, Patch\n",
    "from itertools import product\n",
    "from dataclasses import dataclass\n",
    "\n",
    "import numpy as np\n",
    "np.set_printoptions(suppress=True)\n",
    "\n",
    "@dataclass(frozen=True)\n",
    "class Wire:\n",
    "    layer: int\n",
    "    i: int\n",
    "    j: int"
   ]
  },
  {
   "cell_type": "markdown",
   "id": "3fd3ee66-b788-4671-af1a-8ad8f9419feb",
   "metadata": {
    "tags": []
   },
   "source": [
    "## Surface code"
   ]
  },
  {
   "cell_type": "markdown",
   "id": "f31558da-e1ee-4b4c-8e35-61ede72c3e42",
   "metadata": {},
   "source": [
    "### Raw lattice definition"
   ]
  },
  {
   "cell_type": "code",
   "execution_count": 222,
   "id": "783f989c-4651-4cdc-9d35-096cdf726848",
   "metadata": {},
   "outputs": [],
   "source": [
    "## lattice dimensions\n",
    "\n",
    "## Qubit array layers\n",
    "n_qubit_layers = 3 # | 0: Surface code | 1: type-I auxiliar qubits | 2: type-II auxiliar qubits |\n",
    "\n",
    "## surface code sites\n",
    "nx = 2\n",
    "ny = 2\n",
    "surface_code_all_sites = [(0, px, py) for px, py in product(range(nx), range(ny))]\n",
    "\n",
    "## type-I auxiliar qubits sites\n",
    "nx_I = 0 # nx - 1\n",
    "ny_I = 0 # ny - 1\n",
    "type_I_all_sites = [(1, px, py) for px, py in product(range(nx_I), range(ny_I))]\n",
    "\n",
    "## type-II auxiliar qubits sites\n",
    "nx_II = 0 # nx_I // 2\n",
    "ny_II = 0 # ny_I // 2\n",
    "type_II_all_sites = [(2, px, py) for px, py in product(range(nx_II), range(ny_II))]\n",
    "\n",
    "## raw qubit lattice \n",
    "#dev = qml.device(\"lightning.qubit\", wires=[Wire(*s) for s in surface_code_all_sites]) # debug\n",
    "dev = qml.device(\"lightning.qubit\", wires=[Wire(*s) for s in surface_code_all_sites + type_I_all_sites + type_II_all_sites])"
   ]
  },
  {
   "cell_type": "markdown",
   "id": "15cd7199-4d1d-404a-b045-cd63f8f05543",
   "metadata": {},
   "source": [
    "### Data qubits"
   ]
  },
  {
   "cell_type": "code",
   "execution_count": 223,
   "id": "cead1f83-477a-44ca-a154-ed82d8e97f38",
   "metadata": {},
   "outputs": [],
   "source": [
    "## Data qubits\n",
    "data_sites = []\n",
    "\n",
    "for x, y in all_sites:\n",
    "    x0 = 2*x \n",
    "    y0 = 2*y \n",
    "    \n",
    "    data_a_site = (0, x0, y0)\n",
    "    data_b_site = (0, x0 + 1, y0 +1)\n",
    "    \n",
    "    if (data_a_site[1] < nx) and (data_a_site[2] < ny):\n",
    "        data_sites.append(data_a_site)\n",
    "        \n",
    "    if (data_b_site[1] < nx) and (data_b_site[2] < ny):\n",
    "        data_sites.append(data_b_site)"
   ]
  },
  {
   "cell_type": "markdown",
   "id": "e6e90890-845a-4723-8f37-649088f125bf",
   "metadata": {},
   "source": [
    "### X-measurement qubits"
   ]
  },
  {
   "cell_type": "code",
   "execution_count": 224,
   "id": "236dc1ef-f67c-49ef-a910-325f9723f707",
   "metadata": {},
   "outputs": [],
   "source": [
    "## X measurement sites and operators\n",
    "x_measure_sites = []\n",
    "x_measure_data_sites = [] \n",
    "x_op = []\n",
    "\n",
    "for x, y in product(range(nx // 2 + nx % 2), range(ny // 2 + ny % 2)):\n",
    "    x0 = 2 * x\n",
    "    y0 = 2 * y + 1\n",
    "    \n",
    "    sites = []\n",
    "    for px, py in [(x0 - 1, y0), (x0, y0 - 1), (x0 + 1, y0), (x0, y0 + 1)]:\n",
    "        if ((px >= 0) and (py >= 0)) and ((px < nx) and (py < ny)):\n",
    "            sites.append((0, px, py))\n",
    "            \n",
    "    op = qml.operation.Tensor(*(qml.PauliX(Wire(*s)) for s in sites))\n",
    "\n",
    "    x_measure_sites.append((0, x0, y0))\n",
    "    x_measure_data_sites.append(sites)\n",
    "    x_op.append(op)"
   ]
  },
  {
   "cell_type": "markdown",
   "id": "789a609f-3a5f-4371-902d-f941d0edf2e0",
   "metadata": {},
   "source": [
    "### Z-measurement qubits"
   ]
  },
  {
   "cell_type": "code",
   "execution_count": 225,
   "id": "fb90906a-3ebd-4e09-b29f-2b6468ebde3f",
   "metadata": {},
   "outputs": [],
   "source": [
    "## Z measurement sites and operators\n",
    "z_measure_sites = []\n",
    "z_measure_data_sites = [] \n",
    "z_op = []\n",
    "\n",
    "for x, y in product(range(nx // 2 + nx % 2), range(ny // 2 + ny % 2)):\n",
    "    x0 = 2 * x + 1\n",
    "    y0 = 2 * y \n",
    "    \n",
    "    sites = []\n",
    "    for px, py in [(x0 - 1, y0), (x0, y0 - 1), (x0 + 1, y0), (x0, y0 + 1)]:\n",
    "        if ((px >= 0) and (py >= 0)) and ((px < nx) and (py < ny)):\n",
    "            sites.append((0, px, py))\n",
    "            \n",
    "    op = qml.operation.Tensor(*(qml.PauliZ(Wire(*s)) for s in sites))\n",
    "\n",
    "    z_measure_sites.append((0, x0, y0))\n",
    "    z_measure_data_sites.append(sites)\n",
    "    z_op.append(op)"
   ]
  },
  {
   "cell_type": "code",
   "execution_count": 226,
   "id": "9068a6b6-fe8d-419a-be45-620cf4b6f244",
   "metadata": {},
   "outputs": [
    {
     "data": {
      "text/plain": [
       "[(0, 0, 1)]"
      ]
     },
     "execution_count": 226,
     "metadata": {},
     "output_type": "execute_result"
    }
   ],
   "source": [
    "x_measure_sites"
   ]
  },
  {
   "cell_type": "code",
   "execution_count": 227,
   "id": "5ecab6d9-87b3-4b50-902a-5ca483ebb616",
   "metadata": {},
   "outputs": [
    {
     "data": {
      "text/plain": [
       "[(0, 1, 0)]"
      ]
     },
     "execution_count": 227,
     "metadata": {},
     "output_type": "execute_result"
    }
   ],
   "source": [
    "z_measure_sites"
   ]
  },
  {
   "cell_type": "code",
   "execution_count": 228,
   "id": "66e2a85f-ca38-4316-b4a4-3d2a77288210",
   "metadata": {},
   "outputs": [
    {
     "data": {
      "text/plain": [
       "[(0, 0, 0), (0, 1, 1)]"
      ]
     },
     "execution_count": 228,
     "metadata": {},
     "output_type": "execute_result"
    }
   ],
   "source": [
    "data_sites"
   ]
  },
  {
   "cell_type": "code",
   "execution_count": 229,
   "id": "6fecbad9-5d23-4fad-9d09-570a96706106",
   "metadata": {},
   "outputs": [
    {
     "data": {
      "text/plain": [
       "[PauliX(wires=[Wire(layer=0, i=0, j=0)]) @ PauliX(wires=[Wire(layer=0, i=1, j=1)])]"
      ]
     },
     "execution_count": 229,
     "metadata": {},
     "output_type": "execute_result"
    }
   ],
   "source": [
    "x_op"
   ]
  },
  {
   "cell_type": "markdown",
   "id": "e1efa2a5-45f3-48f3-ab91-3e80f55ec12b",
   "metadata": {},
   "source": [
    "### Code cycle\n",
    "#### Random initial state for the data qubits"
   ]
  },
  {
   "cell_type": "code",
   "execution_count": 230,
   "id": "5e461c01-d188-4527-8403-43a6e8ac0228",
   "metadata": {},
   "outputs": [],
   "source": [
    "from scipy.stats import rv_continuous\n",
    "\n",
    "class sin_prob_dist(rv_continuous):\n",
    "    def _pdf(self, theta):\n",
    "        return 0.5 * np.sin(theta)\n",
    "\n",
    "# Samples of theta should be drawn from between 0 and pi\n",
    "sin_sampler = sin_prob_dist(a=0, b=np.pi)\n",
    "\n",
    "@qml.qnode(dev)\n",
    "def haar_random_unitary(layer, sx, sy):\n",
    "    phi, omega = 2 * np.pi * np.random.uniform(size=2) # Sample phi and omega as normal\n",
    "    theta = sin_sampler.rvs(size=1) # Sample theta from our new distribution\n",
    "    qml.Rot(phi, theta, omega, wires=Wire(layer, sx, sy))\n",
    "    return qml.state()\n",
    "\n",
    "for site in data_sites:\n",
    "    haar_random_unitary(*site)\n",
    "    \n",
    "@qml.qnode(dev)\n",
    "def state():\n",
    "    return qml.state()"
   ]
  },
  {
   "cell_type": "markdown",
   "id": "d2ff0fac-05cc-41af-84d9-751cff2fc9f4",
   "metadata": {},
   "source": [
    "#### Surface code implementation"
   ]
  },
  {
   "cell_type": "code",
   "execution_count": 231,
   "id": "35a41701-9ae0-4a5c-ac73-ae581a2060cc",
   "metadata": {},
   "outputs": [],
   "source": [
    "@qml.qnode(dev)\n",
    "def surface_code():\n",
    "    ## measurement qubits init\n",
    "    ### x-syndrome initial Hadamard and x-controlled CNOT      \n",
    "    for n_site, x_m_site in enumerate(x_measure_sites):\n",
    "        qml.Hadamard(Wire(*x_m_site))\n",
    "        op = x_op[n_site]\n",
    "        for target in op.wires:\n",
    "            qml.CNOT(wires=[Wire(*x_m_site), target])\n",
    "        \n",
    "    ### z-target CNOT\n",
    "    for n_site, z_m_site in enumerate(z_measure_sites):\n",
    "        op = z_op[n_site]\n",
    "        for target in op.wires:\n",
    "            qml.CNOT(wires=[target, Wire(*z_m_site)])\n",
    "            \n",
    "    ### x-syndrome final Hadamard  \n",
    "    for x_m_site in x_measure_sites:\n",
    "        qml.Hadamard(Wire(*x_m_site))\n",
    "    \n",
    "    return qml.state()"
   ]
  },
  {
   "cell_type": "code",
   "execution_count": 232,
   "id": "473f1968-48af-44fb-be9a-89bb89614235",
   "metadata": {},
   "outputs": [
    {
     "name": "stdout",
     "output_type": "stream",
     "text": [
      "Wire(layer=0, i=0, j=0): ────╭X────╭●────┤  State\n",
      "Wire(layer=0, i=0, j=1): ──H─╰●─╭●─│───H─┤  State\n",
      "Wire(layer=0, i=1, j=0): ───────│──╰X─╭X─┤  State\n",
      "Wire(layer=0, i=1, j=1): ───────╰X────╰●─┤  State\n"
     ]
    }
   ],
   "source": [
    "print(qml.draw(surface_code)())"
   ]
  },
  {
   "cell_type": "code",
   "execution_count": 233,
   "id": "62d7862f-2f1d-481b-b859-7159785e2b8b",
   "metadata": {},
   "outputs": [
    {
     "data": {
      "text/plain": [
       "tensor([ 0.5+0.j,  0. +0.j,  0. +0.j,  0. +0.j,  0.5+0.j,  0. +0.j,\n",
       "         0. +0.j,  0. +0.j,  0. +0.j,  0.5+0.j,  0. +0.j,  0. +0.j,\n",
       "         0. +0.j, -0.5+0.j,  0. +0.j,  0. +0.j], requires_grad=True)"
      ]
     },
     "execution_count": 233,
     "metadata": {},
     "output_type": "execute_result"
    }
   ],
   "source": [
    "surface_code()"
   ]
  },
  {
   "cell_type": "markdown",
   "id": "ed83dbab-8dd4-419b-a298-40cd738c91cf",
   "metadata": {
    "jp-MarkdownHeadingCollapsed": true,
    "tags": []
   },
   "source": [
    "### Check 1"
   ]
  },
  {
   "cell_type": "code",
   "execution_count": 179,
   "id": "910c26bb-7fe0-494a-b903-9d2b8f7d35d6",
   "metadata": {},
   "outputs": [
    {
     "data": {
      "text/plain": [
       "array([ 0.5,  0. ,  0. ,  0. ,  0. ,  0. ,  0.5,  0. ,  0.5,  0. ,  0. ,\n",
       "        0. ,  0. ,  0. , -0.5,  0. ])"
      ]
     },
     "execution_count": 179,
     "metadata": {},
     "output_type": "execute_result"
    }
   ],
   "source": [
    "base = [np.array([1,0]), np.array([0,1])]\n",
    "\n",
    "def state_vec(i,j,k,l):\n",
    "    return np.kron(base[i],np.kron(base[j], np.kron(base[k], base[l])))\n",
    "\n",
    ".5*(state_vec(0,0,0,0) + state_vec(1,0,0,0) + state_vec(0,1,1,0) - state_vec(1,1,1,0))\n",
    "\n",
    "@qml.qnode(dev_test)\n",
    "def code_test():\n",
    "    qml.Hadamard(wires=0)\n",
    "    qml.CNOT(wires=[0,1])\n",
    "    qml.CNOT(wires=[0,2])\n",
    "    qml.CNOT(wires=[1,3])\n",
    "    qml.CNOT(wires=[2,3])\n",
    "    qml.Hadamard(wires=0)\n",
    "    return qml.state()"
   ]
  },
  {
   "cell_type": "code",
   "execution_count": null,
   "id": "77c6c23e-5e47-43b1-a4ce-5d4512848c79",
   "metadata": {},
   "outputs": [],
   "source": [
    "print(qml.draw(code_test)())"
   ]
  },
  {
   "cell_type": "code",
   "execution_count": 193,
   "id": "649b6cfe-cf21-447b-af0b-3355b1272ba5",
   "metadata": {},
   "outputs": [
    {
     "data": {
      "text/plain": [
       "tensor([ 0.5+0.j,  0. +0.j,  0. +0.j,  0. +0.j,  0. +0.j,  0. +0.j,\n",
       "         0.5+0.j,  0. +0.j,  0.5+0.j,  0. +0.j,  0. +0.j,  0. +0.j,\n",
       "         0. +0.j,  0. +0.j, -0.5+0.j,  0. +0.j], requires_grad=True)"
      ]
     },
     "execution_count": 193,
     "metadata": {},
     "output_type": "execute_result"
    }
   ],
   "source": [
    "code_test()"
   ]
  },
  {
   "cell_type": "code",
   "execution_count": 180,
   "id": "f4601e06-e4ea-4993-a89c-0b08e786fb8f",
   "metadata": {},
   "outputs": [],
   "source": [
    "## raw qubit lattice \n",
    "dev_test = qml.device(\"lightning.qubit\", wires=4)"
   ]
  },
  {
   "cell_type": "markdown",
   "id": "b4085247-8888-4478-babd-00bb848ff47d",
   "metadata": {},
   "source": [
    "## Holonomic gate implementation"
   ]
  },
  {
   "cell_type": "markdown",
   "id": "528d8a99-a1d1-4138-a727-27e572a0704d",
   "metadata": {},
   "source": [
    "### Single qubit gate"
   ]
  },
  {
   "cell_type": "code",
   "execution_count": null,
   "id": "68137fbd-d963-4c40-9ab9-8a751e7c4aaa",
   "metadata": {},
   "outputs": [],
   "source": [
    "# Holomonic gates based on https://journals.aps.org/prapplied/abstract/10.1103/PhysRevApplied.13.014055\n",
    "\n",
    "## Single qubit case J_A2 = 0\n",
    "\n",
    "\n",
    "## Two-qubit case J_A2 \\neq 0"
   ]
  },
  {
   "cell_type": "code",
   "execution_count": null,
   "id": "794226c1-a6d2-436c-a5d5-2910ce59b9c2",
   "metadata": {},
   "outputs": [],
   "source": [
    "coeffs = [1, 1]\n",
    "obs = [qml.PauliX(0), qml.PauliX(1)]\n",
    "hamiltonian = qml.Hamiltonian(coeffs, obs)\n",
    "\n",
    "@qml.qnode(dev)\n",
    "def circuit(time):\n",
    "    ApproxTimeEvolution(hamiltonian, time, 1)\n",
    "    return [qml.expval(qml.PauliZ(wires=i)) for i in wires]"
   ]
  }
 ],
 "metadata": {
  "kernelspec": {
   "display_name": "Python 3 (ipykernel)",
   "language": "python",
   "name": "python3"
  },
  "language_info": {
   "codemirror_mode": {
    "name": "ipython",
    "version": 3
   },
   "file_extension": ".py",
   "mimetype": "text/x-python",
   "name": "python",
   "nbconvert_exporter": "python",
   "pygments_lexer": "ipython3",
   "version": "3.9.12"
  }
 },
 "nbformat": 4,
 "nbformat_minor": 5
}
